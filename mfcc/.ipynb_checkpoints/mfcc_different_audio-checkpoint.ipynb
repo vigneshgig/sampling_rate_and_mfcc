{
 "cells": [
  {
   "cell_type": "code",
   "execution_count": null,
   "metadata": {},
   "outputs": [],
   "source": [
    "import librosa\n",
    "audio_path_m = './REC20200222223320.mp3.wav.wav'\n",
    "audio_path_m_1 = './REC20200222223334.mp3.wav.wav'\n",
    "audio_path_m_2 = './REC20200222223350.mp3.wav.wav'\n",
    "audio_path_m_3 = './REC20200222223431.mp3.wav.wav'\n",
    "audio_path_f   = './REC20200222223500.mp3.wav.wav'\n",
    "x_m , sr_m = librosa.load(audio_path,sr=None)\n",
    "print(x_m, sr_m)\n",
    "x_m_1 , sr_m_1 = librosa.load(audio_path_m_1,sr=None)\n",
    "print(x_m_1, sr_m_1)\n",
    "x_m_2 , sr_m_2 = librosa.load(audio_path_m_2,sr=None)\n",
    "print(x_m_2, sr_m_2)\n",
    "x_m_3 , sr_m_3 = librosa.load(audio_path_m_3,sr=None)\n",
    "print(x_m_4, sr_m_4)\n",
    "x_f , sr_f = librosa.load(audio_path_f,sr=None)\n",
    "print(x_f, sr_f)\n",
    "\n",
    "\n",
    "#display waveform\n",
    "%matplotlib inline\n",
    "import matplotlib.pyplot as plt\n",
    "import librosa.display\n",
    "plt.figure(figsize=(14, 5))\n",
    "librosa.display.waveplot(x_m, sr=None)\n",
    "plt.figure(figsize=(14, 5))\n",
    "librosa.display.waveplot(x_m_1, sr=None)\n",
    "plt.figure(figsize=(14, 5))\n",
    "librosa.display.waveplot(x_m_2, sr=None)\n",
    "plt.figure(figsize=(14, 5))\n",
    "librosa.display.waveplot(x_m_3, sr=None)\n",
    "plt.figure(figsize=(14, 5))\n",
    "librosa.display.waveplot(x_m_4, sr=None)\n",
    "plt.figure(figsize=(14, 5))\n",
    "librosa.display.waveplot(x_f, sr=None)\n",
    "\n",
    "#display Spectrogram\n",
    "X = librosa.stft(x_m)\n",
    "Xdb = librosa.amplitude_to_db(abs(X))\n",
    "plt.figure(figsize=(14, 5))\n",
    "librosa.display.specshow(Xdb, sr=sr_m, x_axis='time', y_axis='hz') \n",
    "#If to pring log of frequencies  \n",
    "#librosa.display.specshow(Xdb, sr=sr, x_axis='time', y_axis='log')\n",
    "plt.colorbar()\n",
    "\n",
    "#display Spectrogram\n",
    "X = librosa.stft(x_m_1)\n",
    "Xdb = librosa.amplitude_to_db(abs(X))\n",
    "plt.figure(figsize=(14, 5))\n",
    "librosa.display.specshow(Xdb, sr=sr_m_1, x_axis='time', y_axis='hz') \n",
    "#If to pring log of frequencies  \n",
    "#librosa.display.specshow(Xdb, sr=sr, x_axis='time', y_axis='log')\n",
    "plt.colorbar()\n",
    "\n",
    "#display Spectrogram\n",
    "X = librosa.stft(x_m_2)\n",
    "Xdb = librosa.amplitude_to_db(abs(X))\n",
    "plt.figure(figsize=(14, 5))\n",
    "librosa.display.specshow(Xdb, sr=sr_m_2, x_axis='time', y_axis='hz') \n",
    "#If to pring log of frequencies  \n",
    "#librosa.display.specshow(Xdb, sr=sr, x_axis='time', y_axis='log')\n",
    "plt.colorbar()\n",
    "\n",
    "\n",
    "#display Spectrogram\n",
    "X = librosa.stft(x_m_3)\n",
    "Xdb = librosa.amplitude_to_db(abs(X))\n",
    "plt.figure(figsize=(14, 5))\n",
    "librosa.display.specshow(Xdb, sr=sr_m_3, x_axis='time', y_axis='hz') \n",
    "#If to pring log of frequencies  \n",
    "#librosa.display.specshow(Xdb, sr=sr, x_axis='time', y_axis='log')\n",
    "plt.colorbar()\n",
    "\n",
    "#display Spectrogram\n",
    "X = librosa.stft(x_m_4)\n",
    "Xdb = librosa.amplitude_to_db(abs(X))\n",
    "plt.figure(figsize=(14, 5))\n",
    "librosa.display.specshow(Xdb, sr=sr_m_4, x_axis='time', y_axis='hz') \n",
    "#If to pring log of frequencies  \n",
    "#librosa.display.specshow(Xdb, sr=sr, x_axis='time', y_axis='log')\n",
    "plt.colorbar()\n",
    "\n",
    "\n",
    "#display Spectrogram\n",
    "X = librosa.stft(x_f)\n",
    "Xdb = librosa.amplitude_to_db(abs(X))\n",
    "plt.figure(figsize=(14, 5))\n",
    "librosa.display.specshow(Xdb, sr=sr_f, x_axis='time', y_axis='hz') \n",
    "#If to pring log of frequencies  \n",
    "#librosa.display.specshow(Xdb, sr=sr, x_axis='time', y_axis='log')\n",
    "plt.colorbar()\n",
    "\n",
    "\n",
    "\n",
    "\n",
    "\n"
   ]
  },
  {
   "cell_type": "code",
   "execution_count": null,
   "metadata": {},
   "outputs": [],
   "source": [
    "mfccs = librosa.feature.mfcc(x_1, sr=sr_1,n_mfcc=13)\n",
    "print(mfccs.shape)\n",
    "#Displaying  the MFCCs:\n",
    "librosa.display.specshow(mfccs, sr=sr_1, x_axis='time',cmap='gray_r')\n"
   ]
  },
  {
   "cell_type": "code",
   "execution_count": null,
   "metadata": {},
   "outputs": [],
   "source": [
    "mfccs = librosa.feature.mfcc(x_1_16, sr=sr_1_16,n_mfcc=13)\n",
    "print(mfccs.shape)\n",
    "#Displaying  the MFCCs:\n",
    "librosa.display.specshow(mfccs, sr=sr_1_16, x_axis='time',cmap='gray_r')\n",
    "\n"
   ]
  },
  {
   "cell_type": "code",
   "execution_count": null,
   "metadata": {},
   "outputs": [],
   "source": [
    "mfccs = librosa.feature.mfcc(x_1_8, sr=sr_1_8,n_mfcc=13)\n",
    "print(mfccs.shape)\n",
    "#Displaying  the MFCCs:\n",
    "librosa.display.specshow(mfccs, sr=sr_1_8, x_axis='time',cmap='gray_r')"
   ]
  },
  {
   "cell_type": "code",
   "execution_count": null,
   "metadata": {},
   "outputs": [],
   "source": [
    "mfccs = librosa.feature.mfcc(x_1, sr=sr_1,n_mfcc=5)\n",
    "print(mfccs.shape)\n",
    "#Displaying  the MFCCs:\n",
    "librosa.display.specshow(mfccs, sr=sr_1, x_axis='time',cmap='gray_r')"
   ]
  },
  {
   "cell_type": "code",
   "execution_count": null,
   "metadata": {},
   "outputs": [],
   "source": [
    "mfccs = librosa.feature.mfcc(x_1_16, sr=sr_1_16,n_mfcc=5)\n",
    "print(mfccs.shape)\n",
    "#Displaying  the MFCCs:\n",
    "librosa.display.specshow(mfccs, sr=sr_1_16, x_axis='time',cmap='gray_r')"
   ]
  },
  {
   "cell_type": "code",
   "execution_count": null,
   "metadata": {},
   "outputs": [],
   "source": [
    "mfccs = librosa.feature.mfcc(x_1_8, sr=sr_1_8,n_mfcc=5)\n",
    "print(mfccs.shape)\n",
    "#Displaying  the MFCCs:\n",
    "librosa.display.specshow(mfccs, sr=sr_1_8, x_axis='time',cmap='gray_r')"
   ]
  }
 ],
 "metadata": {
  "kernelspec": {
   "display_name": "Python 3",
   "language": "python",
   "name": "python3"
  },
  "language_info": {
   "codemirror_mode": {
    "name": "ipython",
    "version": 3
   },
   "file_extension": ".py",
   "mimetype": "text/x-python",
   "name": "python",
   "nbconvert_exporter": "python",
   "pygments_lexer": "ipython3",
   "version": "3.7.4"
  }
 },
 "nbformat": 4,
 "nbformat_minor": 4
}
