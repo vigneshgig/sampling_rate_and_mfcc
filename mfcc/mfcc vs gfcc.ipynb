{
 "cells": [
  {
   "cell_type": "code",
   "execution_count": 5,
   "metadata": {},
   "outputs": [
    {
     "name": "stdout",
     "output_type": "stream",
     "text": [
      "[ 0.          0.          0.         ... -0.00512695 -0.00889587\n",
      " -0.01448059] 48000\n",
      "[ 0.          0.          0.         ... -0.01092529 -0.0087738\n",
      " -0.00848389] 48000\n",
      "[ 0.          0.          0.         ... -0.02319336 -0.01959229\n",
      " -0.01551819] 48000\n",
      "[0.         0.         0.         ... 0.0043335  0.00421143 0.00230408] [0.         0.         0.         ... 0.0043335  0.00421143 0.00230408]\n",
      "[0.         0.         0.         ... 0.01797485 0.01824951 0.01809692] 48000\n"
     ]
    }
   ],
   "source": [
    "import librosa\n",
    "audio_path_m = './REC20200222223320.mp3.wav.wav'\n",
    "audio_path_f   = './REC20200222223500.mp3.wav.wav'\n",
    "audio_path_m_1 = './REC20200222223334.mp3.wav.wav'\n",
    "audio_path_m_2 = './REC20200222223350.mp3.wav.wav'\n",
    "audio_path_m_3 = './REC20200222223431.mp3.wav.wav'\n",
    "x_m , sr_m = librosa.load(audio_path_m,sr=None)\n",
    "print(x_m, sr_m)\n",
    "x_m_1 , sr_m_1 = librosa.load(audio_path_m_1,sr=None)\n",
    "print(x_m_1, sr_m_1)\n",
    "x_m_2 , sr_m_2 = librosa.load(audio_path_m_2,sr=None)\n",
    "print(x_m_2, sr_m_2)\n",
    "x_m_3 , sr_m_3 = librosa.load(audio_path_m_3,sr=None)\n",
    "print(x_m_3, x_m_3)\n",
    "x_f , sr_f = librosa.load(audio_path_f,sr=None)\n",
    "print(x_f, sr_f)"
   ]
  },
  {
   "cell_type": "code",
   "execution_count": 8,
   "metadata": {},
   "outputs": [
    {
     "data": {
      "text/plain": [
       "<matplotlib.axes._subplots.AxesSubplot at 0x7f8dc7d69f50>"
      ]
     },
     "execution_count": 8,
     "metadata": {},
     "output_type": "execute_result"
    },
    {
     "data": {
      "image/png": "[encoded data removed]",
      "text/plain": [
       "<Figure size 432x288 with 1 Axes>"
      ]
     },
     "metadata": {
      "needs_background": "light"
     },
     "output_type": "display_data"
    }
   ],
   "source": [
    "\n",
    "from spafe.features.gfcc import gfcc\n",
    "import librosa.display\n",
    "gfccs = gfcc(x_m, fs=sr_m, num_ceps=3)\n",
    "gfccs = gfccs.T\n",
    "#Displaying  the MFCCs:\n",
    "librosa.display.specshow(gfccs, sr=sr_m, x_axis='time',cmap='gray_r')\n"
   ]
  },
  {
   "cell_type": "code",
   "execution_count": 11,
   "metadata": {},
   "outputs": [
    {
     "data": {
      "text/plain": [
       "<matplotlib.axes._subplots.AxesSubplot at 0x7f8dc6f112d0>"
      ]
     },
     "execution_count": 11,
     "metadata": {},
     "output_type": "execute_result"
    },
    {
     "data": {
      "image/png": "[encoded data removed]",
      "text/plain": [
       "<Figure size 432x288 with 1 Axes>"
      ]
     },
     "metadata": {
      "needs_background": "light"
     },
     "output_type": "display_data"
    }
   ],
   "source": [
    "gfccs = gfcc(x_m_1, fs=sr_m_1, num_ceps=3)\n",
    "gfccs = gfccs.T\n",
    "#Displaying  the MFCCs:\n",
    "librosa.display.specshow(gfccs, sr=sr_m, x_axis='time',cmap='gray_r')"
   ]
  },
  {
   "cell_type": "code",
   "execution_count": 12,
   "metadata": {},
   "outputs": [
    {
     "data": {
      "text/plain": [
       "<matplotlib.axes._subplots.AxesSubplot at 0x7f8dc6ed4f50>"
      ]
     },
     "execution_count": 12,
     "metadata": {},
     "output_type": "execute_result"
    },
    {
     "data": {
      "image/png": "[encoded data removed]",
      "text/plain": [
       "<Figure size 432x288 with 1 Axes>"
      ]
     },
     "metadata": {
      "needs_background": "light"
     },
     "output_type": "display_data"
    }
   ],
   "source": [
    "gfccs = gfcc(x_m_2, fs=sr_m_2, num_ceps=3)\n",
    "gfccs = gfccs.T\n",
    "#Displaying  the MFCCs:\n",
    "librosa.display.specshow(gfccs, sr=sr_m, x_axis='time',cmap='gray_r')"
   ]
  },
  {
   "cell_type": "code",
   "execution_count": 13,
   "metadata": {},
   "outputs": [
    {
     "data": {
      "text/plain": [
       "<matplotlib.axes._subplots.AxesSubplot at 0x7f8dc6ea3fd0>"
      ]
     },
     "execution_count": 13,
     "metadata": {},
     "output_type": "execute_result"
    },
    {
     "data": {
      "image/png": "[encoded data removed]",
      "text/plain": [
       "<Figure size 432x288 with 1 Axes>"
      ]
     },
     "metadata": {
      "needs_background": "light"
     },
     "output_type": "display_data"
    }
   ],
   "source": [
    "gfccs = gfcc(x_m_3, fs=sr_m_3, num_ceps=3)\n",
    "gfccs = gfccs.T\n",
    "#Displaying  the MFCCs:\n",
    "librosa.display.specshow(gfccs, sr=sr_m_3, x_axis='time',cmap='gray_r')"
   ]
  },
  {
   "cell_type": "code",
   "execution_count": 14,
   "metadata": {},
   "outputs": [
    {
     "data": {
      "text/plain": [
       "<matplotlib.axes._subplots.AxesSubplot at 0x7f8dc6e7e0d0>"
      ]
     },
     "execution_count": 14,
     "metadata": {},
     "output_type": "execute_result"
    },
    {
     "data": {
      "image/png": "[encoded data removed]",
      "text/plain": [
       "<Figure size 432x288 with 1 Axes>"
      ]
     },
     "metadata": {
      "needs_background": "light"
     },
     "output_type": "display_data"
    }
   ],
   "source": [
    "gfccs = gfcc(x_f, fs=sr_f, num_ceps=3)\n",
    "gfccs = gfccs.T\n",
    "#Displaying  the MFCCs:\n",
    "librosa.display.specshow(gfccs, sr=sr_m, x_axis='time',cmap='gray_r')"
   ]
  },
  {
   "cell_type": "code",
   "execution_count": null,
   "metadata": {},
   "outputs": [],
   "source": [
    "\n"
   ]
  }
 ],
 "metadata": {
  "kernelspec": {
   "display_name": "Python 3",
   "language": "python",
   "name": "python3"
  },
  "language_info": {
   "codemirror_mode": {
    "name": "ipython",
    "version": 3
   },
   "file_extension": ".py",
   "mimetype": "text/x-python",
   "name": "python",
   "nbconvert_exporter": "python",
   "pygments_lexer": "ipython3",
   "version": "3.7.4"
  }
 },
 "nbformat": 4,
 "nbformat_minor": 4
}
